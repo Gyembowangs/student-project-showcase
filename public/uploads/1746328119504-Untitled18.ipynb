{
 "cells": [
  {
   "cell_type": "code",
   "execution_count": 10,
   "id": "6f9b03cb-e7ef-4b26-b419-9d8c4e0fe382",
   "metadata": {},
   "outputs": [],
   "source": [
    "# This class holds information about a single airplane\n",
    "class Airplane:\n",
    "    def __init__(self, flight_number, altitude, speed, status):\n",
    "        self.flight_number = flight_number  # e.g., \"AI101\"\n",
    "        self.altitude = altitude            # e.g., 10000 feet\n",
    "        self.speed = speed                  # e.g., 500 km/h\n",
    "        self.status = status                # e.g., \"landing\", \"holding\", \"departed\"\n",
    "\n",
    "    def display_info(self):\n",
    "        print(f\"{self.flight_number:10} | {self.altitude:8} | {self.speed:6} | {self.status:10}\")\n"
   ]
  },
  {
   "cell_type": "code",
   "execution_count": 12,
   "id": "a01a4121-1d9c-4326-882d-9c59cf5be5c2",
   "metadata": {},
   "outputs": [],
   "source": [
    "# This class manages all flights using a dictionary\n",
    "class ATCSystem:\n",
    "    def __init__(self):\n",
    "        self.flights = {}  # Key = flight_number, Value = Airplane object\n",
    "\n",
    "    def add_flight(self, flight):\n",
    "        self.flights[flight.flight_number] = flight\n",
    "        print(f\" Flight {flight.flight_number} added sucessfully!\")\n",
    "\n",
    "    def land_flight(self, flight_number):\n",
    "        if flight_number in self.flights:\n",
    "            self.flights[flight_number].status = \"landed\"\n",
    "            print(f\"🛬 Flight {flight_number} has landed sucessfully!\")\n",
    "        else:\n",
    "            print(\"⚠️ Flight not found.\")\n",
    "\n",
    "    def hold_flight(self, flight_number):\n",
    "        if flight_number in self.flights:\n",
    "            self.flights[flight_number].status = \"holding\"\n",
    "            print(f\"✈️ Flight {flight_number} is now holding.\")\n",
    "        else:\n",
    "            print(\" Flight not found.\")\n",
    "\n",
    "    def takeoff_flight(self, flight_number):\n",
    "        if flight_number in self.flights:\n",
    "            self.flights[flight_number].status = \"departed\"\n",
    "            print(f\" Flight {flight_number} has taken off.\")\n",
    "        else:\n",
    "            print(\" Flight not found.\")\n",
    "\n",
    "    def show_flights(self):\n",
    "        if not self.flights:\n",
    "            print(\"No flights in the system.\")\n",
    "            return\n",
    "        print(\"\\n📋 Current Flights:\")\n",
    "        print(\"Flight No. | Altitude | Speed  | Status\")\n",
    "        print(\"----------------------------------------\")\n",
    "        for flight in self.flights.values():\n",
    "            flight.display_info()\n"
   ]
  },
  {
   "cell_type": "code",
   "execution_count": null,
   "id": "7170e594-2660-4ec1-9d2e-4ca1563601d8",
   "metadata": {},
   "outputs": [
    {
     "name": "stdout",
     "output_type": "stream",
     "text": [
      " Flight AI101 added sucessfully!\n",
      " Flight BA202 added sucessfully!\n",
      " Flight UA303 added sucessfully!\n",
      "\n",
      "--- ATC Menu ---\n",
      "1. Show all flights\n",
      "2. Land a flight\n",
      "3. Hold a flight\n",
      "4. Authorize takeoff\n",
      "5. Exit\n"
     ]
    },
    {
     "name": "stdin",
     "output_type": "stream",
     "text": [
      "Enter your choice (1-5):  4\n",
      "Enter flight number to take off:  BA202\n"
     ]
    },
    {
     "name": "stdout",
     "output_type": "stream",
     "text": [
      "🛫 Flight BA202 has taken off.\n",
      "\n",
      "--- ATC Menu ---\n",
      "1. Show all flights\n",
      "2. Land a flight\n",
      "3. Hold a flight\n",
      "4. Authorize takeoff\n",
      "5. Exit\n"
     ]
    }
   ],
   "source": [
    "# Run the program\n",
    "if __name__ == \"__main__\":\n",
    "    atc = ATCSystem()  # Create the Air Traffic Control system\n",
    "\n",
    "    # Add some sample flights\n",
    "    atc.add_flight(Airplane(\"AI101\", 10000, 500, \"landing\"))\n",
    "    atc.add_flight(Airplane(\"BA202\", 12000, 550, \"landing\"))\n",
    "    atc.add_flight(Airplane(\"UA303\", 0, 0, \"departed\"))\n",
    "\n",
    "    # Menu loop\n",
    "    while True:\n",
    "        print(\"\\n--- ATC Menu ---\")\n",
    "        print(\"1. Show all flights\")\n",
    "        print(\"2. Land a flight\")\n",
    "        print(\"3. Hold a flight\")\n",
    "        print(\"4. Authorize takeoff\")\n",
    "        print(\"5. Exit\")\n",
    "\n",
    "        choice = input(\"Enter your choice (1-5): \")\n",
    "\n",
    "        if choice == \"1\":\n",
    "            atc.show_flights()\n",
    "        elif choice == \"2\":\n",
    "            fn = input(\"Enter flight number to land: \")\n",
    "            atc.land_flight(fn)\n",
    "        elif choice == \"3\":\n",
    "            fn = input(\"Enter flight number to hold: \")\n",
    "            atc.hold_flight(fn)\n",
    "        elif choice == \"4\":\n",
    "            fn = input(\"Enter flight number to take off: \")\n",
    "            atc.takeoff_flight(fn)\n",
    "        elif choice == \"5\":\n",
    "            print(\"🛑 Exiting ATC system.\")\n",
    "            break\n",
    "        else:\n",
    "            print(\"⚠️ Invalid choice. Try again.\")\n"
   ]
  },
  {
   "cell_type": "code",
   "execution_count": null,
   "id": "675d555b-ed33-43a8-83a1-6eb999a89922",
   "metadata": {},
   "outputs": [],
   "source": []
  }
 ],
 "metadata": {
  "kernelspec": {
   "display_name": "Python [conda env:base] *",
   "language": "python",
   "name": "conda-base-py"
  },
  "language_info": {
   "codemirror_mode": {
    "name": "ipython",
    "version": 3
   },
   "file_extension": ".py",
   "mimetype": "text/x-python",
   "name": "python",
   "nbconvert_exporter": "python",
   "pygments_lexer": "ipython3",
   "version": "3.12.7"
  }
 },
 "nbformat": 4,
 "nbformat_minor": 5
}
